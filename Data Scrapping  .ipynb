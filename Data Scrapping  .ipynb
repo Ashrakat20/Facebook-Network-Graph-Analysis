{
 "cells": [
  {
   "cell_type": "markdown",
   "metadata": {
    "id": "34q5R0X2_2HS"
   },
   "source": [
    "## Installations and Imports"
   ]
  },
  {
   "cell_type": "code",
   "execution_count": 2,
   "metadata": {
    "id": "Y6BChvsERScm"
   },
   "outputs": [],
   "source": [
    "import networkx as nx\n",
    "from tqdm.auto import tqdm\n",
    "from time import sleep\n",
    "import random\n",
    "import pickle\n",
    "import warnings\n",
    "warnings.filterwarnings(\"ignore\")\n",
    "from networkx.algorithms.approximation import clique\n",
    "import pandas as pd"
   ]
  },
  {
   "cell_type": "code",
   "execution_count": null,
   "metadata": {},
   "outputs": [],
   "source": [
    "!touch \"cookies.txt\""
   ]
  },
  {
   "cell_type": "code",
   "execution_count": null,
   "metadata": {},
   "outputs": [],
   "source": [
    "!pip install git+https://github.com/kevinzg/facebook-scraper.git --quiet"
   ]
  },
  {
   "cell_type": "code",
   "execution_count": null,
   "metadata": {},
   "outputs": [],
   "source": [
    "from facebook_scraper import get_friends"
   ]
  },
  {
   "cell_type": "markdown",
   "metadata": {},
   "source": [
    "# JS Code for Group Members Scraping"
   ]
  },
  {
   "cell_type": "code",
   "execution_count": null,
   "metadata": {},
   "outputs": [],
   "source": [
    "var lastScrollHeight = 0; \n",
    "function autoScroll() { \n",
    "  var sh = document.documentElement.scrollHeight; \n",
    "  if (sh != lastScrollHeight) { \n",
    "    lastScrollHeight = sh; \n",
    "    document.documentElement.scrollTop = sh; \n",
    "  } \n",
    "} \n",
    "window.setInterval(autoScroll, 100);\n",
    "\n",
    "function exportToCsv(e,t){for(var n=\"\",o=0;o<t.length;o++)n+=function(e){for(var t=\"\",n=0;n<e.length;n++){var o=null===e[n]||void 0===e[n]?\"\":e[n].toString(),o=(o=e[n]instanceof Date?e[n].toLocaleString():o).replace(/\"/g,'\"\"');0<n&&(t+=\",\"),t+=o=0<=o.search(/(\"|,|\\n)/g)?'\"'+o+'\"':o}return t+\"\\n\"}(t[o]);var r=new Blob([n],{type:\"text/csv;charset=utf-8;\"}),i=document.createElement(\"a\");void 0!==i.download&&(r=URL.createObjectURL(r),i.setAttribute(\"href\",r),i.setAttribute(\"download\",e),document.body.appendChild(i),i.click(),document.body.removeChild(i))}function buildCTABtn(){var e=document.createElement(\"div\"),t=(e.setAttribute(\"style\",[\"position: fixed;\",\"top: 0;\",\"left: 0;\",\"z-index: 10;\",\"width: 100%;\",\"height: 100%;\",\"pointer-events: none;\"].join(\"\")),document.createElement(\"div\")),n=(t.setAttribute(\"style\",[\"position: absolute;\",\"bottom: 30px;\",\"right: 130px;\",\"color: white;\",\"min-width: 150px;\",\"background: var(--primary-button-background);\",\"border-radius: var(--button-corner-radius);\",\"padding: 0px 12px;\",\"cursor: pointer;\",\"font-weight:600;\",\"font-size:15px;\",\"display: inline-flex;\",\"pointer-events: auto;\",\"height: 36px;\",\"align-items: center;\",\"justify-content: center;\"].join(\"\")),document.createTextNode(\"Download \")),o=document.createElement(\"span\"),r=(o.setAttribute(\"id\",\"fb-group-scraper-number-tracker\"),o.textContent=\"0\",document.createTextNode(\" members\"));return t.appendChild(n),t.appendChild(o),t.appendChild(r),t.addEventListener(\"click\",function(){var e=(new Date).toISOString();exportToCsv(\"groupMemberExport-\".concat(e,\".csv\"),window.members_list)}),e.appendChild(t),document.body.appendChild(e),e}function processResponse(e){var t,n;if(null!==(t=null==e?void 0:e.data)&&void 0!==t&&t.group)o=e.data.group;else{if(\"Group\"!==(null===(t=null===(t=null==e?void 0:e.data)||void 0===t?void 0:t.node)||void 0===t?void 0:t.__typename))return;o=e.data.node}if(null!==(t=null==o?void 0:o.new_members)&&void 0!==t&&t.edges)n=o.new_members.edges;else if(null!==(e=null==o?void 0:o.new_forum_members)&&void 0!==e&&e.edges)n=o.new_forum_members.edges;else{if(null===(t=null==o?void 0:o.search_results)||void 0===t||!t.edges)return;n=o.search_results.edges}var e=n.map(function(e){var t=e.node,n=t.id,o=t.name,r=t.bio_text,i=t.url,s=t.profile_picture,t=t.__isProfile,d=(null===(d=null==e?void 0:e.join_status_text)||void 0===d?void 0:d.text)||(null===(d=null===(d=null==e?void 0:e.membership)||void 0===d?void 0:d.join_status_text)||void 0===d?void 0:d.text),e=null===(e=e.node.group_membership)||void 0===e?void 0:e.associated_group.id;return[n,o,i,(null==r?void 0:r.text)||\"\",(null==s?void 0:s.uri)||\"\",e,d||\"\",t]}),o=((t=window.members_list).push.apply(t,e),document.getElementById(\"fb-group-scraper-number-tracker\"));o&&(o.textContent=window.members_list.length.toString())}function parseResponse(e){var n=[];try{n.push(JSON.parse(e, function(k, v){return (typeof v === \"string\") ? String(v) : v; \n",
    "}))}catch(t){var o=e.split(\"\\n\");if(o.length<=1)return void console.error(\"Fail to parse API response\",t);for(var r=0;r<o.length;r++){var i=o[r];try{n.push(JSON.parse(i))}catch(e){console.error(\"Fail to parse API response\",t)}}}for(var t=0;t<n.length;t++)processResponse(n[t])}function main(){buildCTABtn();var e=XMLHttpRequest.prototype.send;XMLHttpRequest.prototype.send=function(){this.addEventListener(\"readystatechange\",function(){this.responseURL.includes(\"/api/graphql/\")&&4===this.readyState&&parseResponse(this.responseText)},!1),e.apply(this,arguments)}}window.members_list=window.members_list||[[\"Profile Id\",\"Full Name\",\"ProfileLink\",\"Bio\",\"Image Src\",\"Groupe Id\",\"Group Joining Text\",\"Profile Type\"]],main();"
   ]
  },
  {
   "cell_type": "markdown",
   "metadata": {},
   "source": [
    "# Graph Extraction"
   ]
  },
  {
   "cell_type": "code",
   "execution_count": null,
   "metadata": {},
   "outputs": [],
   "source": [
    "# read a csv named \"egy_geeks_sample.csv\"\n",
    "df = pd.read_csv(\"whole_data_5.csv\")\n",
    "\n",
    "num_fr = 100\n",
    "\n",
    "profiles_n_friends = {}\n",
    "\n",
    "count, err = 0, 0\n",
    "pbar = tqdm(range(len(df)), total=len(df), leave=True)\n",
    "\n",
    "\n",
    "for i in pbar:\n",
    "  try:\n",
    "    profile = str(df.iloc[i][\"Profile Id\"])\n",
    "    profile= profile.replace(\"A\", \"\")\n",
    "    pbar.set_postfix_str(s=f\"count={count}, errors={err}\")\n",
    "    pbar.refresh()\n",
    "    sleep(0.01)\n",
    "\n",
    "    \n",
    "    fr = [f for f in get_friends(profile, cookies=\"cookies.txt\", friends=num_fr)]\n",
    "\n",
    "    # slow down persistent requests for friends\n",
    "    if random.random() > 0.5:\n",
    "        sleep(0.1)\n",
    "    \n",
    "    if fr:\n",
    "        profiles_n_friends[profile] = []\n",
    "        for f in fr:\n",
    "            profiles_n_friends[profile].append(f['id'])\n",
    "        count += 1\n",
    "    else:\n",
    "        err += 1\n",
    "  except:\n",
    "    err += 1\n",
    "    if profile in profiles_n_friends:\n",
    "      profiles_n_friends.pop(profile)\n",
    "    continue\n",
    "    "
   ]
  },
  {
   "cell_type": "markdown",
   "metadata": {},
   "source": [
    "# Cleaning Dictionary of users and their friends"
   ]
  },
  {
   "cell_type": "code",
   "execution_count": null,
   "metadata": {},
   "outputs": [],
   "source": [
    "new_pr_n_fr = {}\n",
    "for k, j in person.items():\n",
    "    if k not in new_pr_n_fr:\n",
    "        new_pr_n_fr[int(k)] = []\n",
    "    for j_ in j:\n",
    "        if j_ != '':\n",
    "            new_pr_n_fr[int(k)].append(j_)\n",
    "\n",
    "for k, j in profiles_n_friends.items():\n",
    "    if k not in new_pr_n_fr:\n",
    "        new_pr_n_fr[int(k)] = []\n",
    "    for j_ in j:\n",
    "        if j_ != '' and j_ not in j:\n",
    "            new_pr_n_fr[int(k)].append(j_)"
   ]
  },
  {
   "cell_type": "markdown",
   "metadata": {
    "id": "JUkFNHrVQXTt"
   },
   "source": [
    "Save Dictionary as pickle file"
   ]
  },
  {
   "cell_type": "code",
   "execution_count": 30,
   "metadata": {
    "colab": {
     "base_uri": "https://localhost:8080/"
    },
    "id": "4X94AspMP4Jn",
    "outputId": "654f7ae6-c067-46cc-8e19-4f5010eca4c6"
   },
   "outputs": [
    {
     "name": "stdout",
     "output_type": "stream",
     "text": [
      "dictionary saved successfully to file\n"
     ]
    }
   ],
   "source": [
    "# save dictionary to person_data.pkl file\n",
    "with open('whole_data_5.pkl', 'wb') as fp:\n",
    "    pickle.dump(profiles_n_friends, fp)\n",
    "    print('dictionary saved successfully to file')"
   ]
  },
  {
   "cell_type": "markdown",
   "metadata": {
    "id": "U1hKSBayPqpo"
   },
   "source": [
    "# Merge 6 dictionaries"
   ]
  },
  {
   "cell_type": "code",
   "execution_count": 11,
   "metadata": {
    "colab": {
     "base_uri": "https://localhost:8080/"
    },
    "id": "FaJ65fejPt31",
    "outputId": "3842158e-192d-4b89-b8ef-bec9fa97dbe9"
   },
   "outputs": [
    {
     "data": {
      "text/plain": [
       "9313"
      ]
     },
     "execution_count": 11,
     "metadata": {},
     "output_type": "execute_result"
    }
   ],
   "source": [
    "merged_dict = {}\n",
    "merged_dict.update(Group1)\n",
    "merged_dict.update(Group2)\n",
    "merged_dict.update(Group3)\n",
    "merged_dict.update(Group4)\n",
    "merged_dict.update(Group5)\n",
    "merged_dict.update(Group6)\n",
    "len(merged_dict)"
   ]
  },
  {
   "cell_type": "code",
   "execution_count": 10,
   "metadata": {
    "colab": {
     "background_save": true
    },
    "id": "pW2zeUjVwSJI"
   },
   "outputs": [],
   "source": [
    "new_pr_n_fr = {}\n",
    "for k, j in merged_dict.items():\n",
    "    if k not in new_pr_n_fr:\n",
    "        new_pr_n_fr[int(k)] = []\n",
    "    for j_ in j:\n",
    "        if j_ != '':\n",
    "            new_pr_n_fr[int(k)].append(j_)"
   ]
  },
  {
   "cell_type": "code",
   "execution_count": 11,
   "metadata": {
    "colab": {
     "base_uri": "https://localhost:8080/"
    },
    "id": "IibU-OYULsG_",
    "outputId": "bdb9c1d0-7423-4364-cba3-ca5b4498c00f"
   },
   "outputs": [
    {
     "data": {
      "text/plain": [
       "9313"
      ]
     },
     "execution_count": 11,
     "metadata": {},
     "output_type": "execute_result"
    }
   ],
   "source": [
    "len(new_pr_n_fr)"
   ]
  },
  {
   "cell_type": "code",
   "execution_count": 13,
   "metadata": {
    "id": "JxvkPoDhy4Mn"
   },
   "outputs": [],
   "source": [
    "for em in e_list:\n",
    "    new_pr_n_fr.pop(em)"
   ]
  }
 ],
 "metadata": {
  "colab": {
   "provenance": []
  },
  "gpuClass": "standard",
  "kernelspec": {
   "display_name": "Python 3 (ipykernel)",
   "language": "python",
   "name": "python3"
  },
  "language_info": {
   "codemirror_mode": {
    "name": "ipython",
    "version": 3
   },
   "file_extension": ".py",
   "mimetype": "text/x-python",
   "name": "python",
   "nbconvert_exporter": "python",
   "pygments_lexer": "ipython3",
   "version": "3.9.13"
  },
  "widgets": {
   "application/vnd.jupyter.widget-state+json": {
    "4d461d8985e04ec392f375741819cce7": {
     "model_module": "@jupyter-widgets/controls",
     "model_module_version": "1.5.0",
     "model_name": "HBoxModel",
     "state": {
      "_dom_classes": [],
      "_model_module": "@jupyter-widgets/controls",
      "_model_module_version": "1.5.0",
      "_model_name": "HBoxModel",
      "_view_count": null,
      "_view_module": "@jupyter-widgets/controls",
      "_view_module_version": "1.5.0",
      "_view_name": "HBoxView",
      "box_style": "",
      "children": [
       "IPY_MODEL_ac118426dd0a4a24953fc80a64855631",
       "IPY_MODEL_a3b52d18974b46f09646b7cfb95448fa",
       "IPY_MODEL_86f92a9ce8b64cf3aa8be44977ca4479"
      ],
      "layout": "IPY_MODEL_5df9a9475c2a47f6968a42505778a5e0"
     }
    },
    "5df9a9475c2a47f6968a42505778a5e0": {
     "model_module": "@jupyter-widgets/base",
     "model_module_version": "1.2.0",
     "model_name": "LayoutModel",
     "state": {
      "_model_module": "@jupyter-widgets/base",
      "_model_module_version": "1.2.0",
      "_model_name": "LayoutModel",
      "_view_count": null,
      "_view_module": "@jupyter-widgets/base",
      "_view_module_version": "1.2.0",
      "_view_name": "LayoutView",
      "align_content": null,
      "align_items": null,
      "align_self": null,
      "border": null,
      "bottom": null,
      "display": null,
      "flex": null,
      "flex_flow": null,
      "grid_area": null,
      "grid_auto_columns": null,
      "grid_auto_flow": null,
      "grid_auto_rows": null,
      "grid_column": null,
      "grid_gap": null,
      "grid_row": null,
      "grid_template_areas": null,
      "grid_template_columns": null,
      "grid_template_rows": null,
      "height": null,
      "justify_content": null,
      "justify_items": null,
      "left": null,
      "margin": null,
      "max_height": null,
      "max_width": null,
      "min_height": null,
      "min_width": null,
      "object_fit": null,
      "object_position": null,
      "order": null,
      "overflow": null,
      "overflow_x": null,
      "overflow_y": null,
      "padding": null,
      "right": null,
      "top": null,
      "visibility": null,
      "width": null
     }
    },
    "5f010198b5d04ed6b533e8b936e82869": {
     "model_module": "@jupyter-widgets/controls",
     "model_module_version": "1.5.0",
     "model_name": "DescriptionStyleModel",
     "state": {
      "_model_module": "@jupyter-widgets/controls",
      "_model_module_version": "1.5.0",
      "_model_name": "DescriptionStyleModel",
      "_view_count": null,
      "_view_module": "@jupyter-widgets/base",
      "_view_module_version": "1.2.0",
      "_view_name": "StyleView",
      "description_width": ""
     }
    },
    "771756cafe674ef68e8a821d9dd5c962": {
     "model_module": "@jupyter-widgets/controls",
     "model_module_version": "1.5.0",
     "model_name": "ProgressStyleModel",
     "state": {
      "_model_module": "@jupyter-widgets/controls",
      "_model_module_version": "1.5.0",
      "_model_name": "ProgressStyleModel",
      "_view_count": null,
      "_view_module": "@jupyter-widgets/base",
      "_view_module_version": "1.2.0",
      "_view_name": "StyleView",
      "bar_color": null,
      "description_width": ""
     }
    },
    "7f497d6042f043a1aa6a2e5f3e7c8299": {
     "model_module": "@jupyter-widgets/base",
     "model_module_version": "1.2.0",
     "model_name": "LayoutModel",
     "state": {
      "_model_module": "@jupyter-widgets/base",
      "_model_module_version": "1.2.0",
      "_model_name": "LayoutModel",
      "_view_count": null,
      "_view_module": "@jupyter-widgets/base",
      "_view_module_version": "1.2.0",
      "_view_name": "LayoutView",
      "align_content": null,
      "align_items": null,
      "align_self": null,
      "border": null,
      "bottom": null,
      "display": null,
      "flex": null,
      "flex_flow": null,
      "grid_area": null,
      "grid_auto_columns": null,
      "grid_auto_flow": null,
      "grid_auto_rows": null,
      "grid_column": null,
      "grid_gap": null,
      "grid_row": null,
      "grid_template_areas": null,
      "grid_template_columns": null,
      "grid_template_rows": null,
      "height": null,
      "justify_content": null,
      "justify_items": null,
      "left": null,
      "margin": null,
      "max_height": null,
      "max_width": null,
      "min_height": null,
      "min_width": null,
      "object_fit": null,
      "object_position": null,
      "order": null,
      "overflow": null,
      "overflow_x": null,
      "overflow_y": null,
      "padding": null,
      "right": null,
      "top": null,
      "visibility": null,
      "width": null
     }
    },
    "86f92a9ce8b64cf3aa8be44977ca4479": {
     "model_module": "@jupyter-widgets/controls",
     "model_module_version": "1.5.0",
     "model_name": "HTMLModel",
     "state": {
      "_dom_classes": [],
      "_model_module": "@jupyter-widgets/controls",
      "_model_module_version": "1.5.0",
      "_model_name": "HTMLModel",
      "_view_count": null,
      "_view_module": "@jupyter-widgets/controls",
      "_view_module_version": "1.5.0",
      "_view_name": "HTMLView",
      "description": "",
      "description_tooltip": null,
      "layout": "IPY_MODEL_fb1abdf5e8af46df888a517720462c32",
      "placeholder": "​",
      "style": "IPY_MODEL_89ce2b2cf072413cb18cf01fdeb80dfa",
      "value": " 20/142011 [00:22&lt;38:16:56,  1.03it/s, count=0, errors=20]"
     }
    },
    "89ce2b2cf072413cb18cf01fdeb80dfa": {
     "model_module": "@jupyter-widgets/controls",
     "model_module_version": "1.5.0",
     "model_name": "DescriptionStyleModel",
     "state": {
      "_model_module": "@jupyter-widgets/controls",
      "_model_module_version": "1.5.0",
      "_model_name": "DescriptionStyleModel",
      "_view_count": null,
      "_view_module": "@jupyter-widgets/base",
      "_view_module_version": "1.2.0",
      "_view_name": "StyleView",
      "description_width": ""
     }
    },
    "a3b52d18974b46f09646b7cfb95448fa": {
     "model_module": "@jupyter-widgets/controls",
     "model_module_version": "1.5.0",
     "model_name": "FloatProgressModel",
     "state": {
      "_dom_classes": [],
      "_model_module": "@jupyter-widgets/controls",
      "_model_module_version": "1.5.0",
      "_model_name": "FloatProgressModel",
      "_view_count": null,
      "_view_module": "@jupyter-widgets/controls",
      "_view_module_version": "1.5.0",
      "_view_name": "ProgressView",
      "bar_style": "",
      "description": "",
      "description_tooltip": null,
      "layout": "IPY_MODEL_e8a701c4a1cc404e8c733d4831a10cf0",
      "max": 142011,
      "min": 0,
      "orientation": "horizontal",
      "style": "IPY_MODEL_771756cafe674ef68e8a821d9dd5c962",
      "value": 20
     }
    },
    "ac118426dd0a4a24953fc80a64855631": {
     "model_module": "@jupyter-widgets/controls",
     "model_module_version": "1.5.0",
     "model_name": "HTMLModel",
     "state": {
      "_dom_classes": [],
      "_model_module": "@jupyter-widgets/controls",
      "_model_module_version": "1.5.0",
      "_model_name": "HTMLModel",
      "_view_count": null,
      "_view_module": "@jupyter-widgets/controls",
      "_view_module_version": "1.5.0",
      "_view_name": "HTMLView",
      "description": "",
      "description_tooltip": null,
      "layout": "IPY_MODEL_7f497d6042f043a1aa6a2e5f3e7c8299",
      "placeholder": "​",
      "style": "IPY_MODEL_5f010198b5d04ed6b533e8b936e82869",
      "value": "  0%"
     }
    },
    "e8a701c4a1cc404e8c733d4831a10cf0": {
     "model_module": "@jupyter-widgets/base",
     "model_module_version": "1.2.0",
     "model_name": "LayoutModel",
     "state": {
      "_model_module": "@jupyter-widgets/base",
      "_model_module_version": "1.2.0",
      "_model_name": "LayoutModel",
      "_view_count": null,
      "_view_module": "@jupyter-widgets/base",
      "_view_module_version": "1.2.0",
      "_view_name": "LayoutView",
      "align_content": null,
      "align_items": null,
      "align_self": null,
      "border": null,
      "bottom": null,
      "display": null,
      "flex": null,
      "flex_flow": null,
      "grid_area": null,
      "grid_auto_columns": null,
      "grid_auto_flow": null,
      "grid_auto_rows": null,
      "grid_column": null,
      "grid_gap": null,
      "grid_row": null,
      "grid_template_areas": null,
      "grid_template_columns": null,
      "grid_template_rows": null,
      "height": null,
      "justify_content": null,
      "justify_items": null,
      "left": null,
      "margin": null,
      "max_height": null,
      "max_width": null,
      "min_height": null,
      "min_width": null,
      "object_fit": null,
      "object_position": null,
      "order": null,
      "overflow": null,
      "overflow_x": null,
      "overflow_y": null,
      "padding": null,
      "right": null,
      "top": null,
      "visibility": null,
      "width": null
     }
    },
    "fb1abdf5e8af46df888a517720462c32": {
     "model_module": "@jupyter-widgets/base",
     "model_module_version": "1.2.0",
     "model_name": "LayoutModel",
     "state": {
      "_model_module": "@jupyter-widgets/base",
      "_model_module_version": "1.2.0",
      "_model_name": "LayoutModel",
      "_view_count": null,
      "_view_module": "@jupyter-widgets/base",
      "_view_module_version": "1.2.0",
      "_view_name": "LayoutView",
      "align_content": null,
      "align_items": null,
      "align_self": null,
      "border": null,
      "bottom": null,
      "display": null,
      "flex": null,
      "flex_flow": null,
      "grid_area": null,
      "grid_auto_columns": null,
      "grid_auto_flow": null,
      "grid_auto_rows": null,
      "grid_column": null,
      "grid_gap": null,
      "grid_row": null,
      "grid_template_areas": null,
      "grid_template_columns": null,
      "grid_template_rows": null,
      "height": null,
      "justify_content": null,
      "justify_items": null,
      "left": null,
      "margin": null,
      "max_height": null,
      "max_width": null,
      "min_height": null,
      "min_width": null,
      "object_fit": null,
      "object_position": null,
      "order": null,
      "overflow": null,
      "overflow_x": null,
      "overflow_y": null,
      "padding": null,
      "right": null,
      "top": null,
      "visibility": null,
      "width": null
     }
    }
   }
  }
 },
 "nbformat": 4,
 "nbformat_minor": 1
}
